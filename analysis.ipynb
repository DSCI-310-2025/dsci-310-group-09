{
 "cells": [
  {
   "cell_type": "markdown",
   "metadata": {},
   "source": [
    "# Car Evaluation Analysis"
   ]
  },
  {
   "cell_type": "markdown",
   "metadata": {},
   "source": [
    "## Summary"
   ]
  },
  {
   "cell_type": "markdown",
   "metadata": {},
   "source": [
    "We aim to develop a Random Forest classification model to predict car acceptability categories: unacceptable (unacc), acceptable (acc), good (good), and very good (vgood). This prediction is based on categorical attributes such as price, maintenance cost, safety, and seating capacity. The data is sourced from the Car Evaluation dataset found in the UCI Machine Learning Repository (Bohanec, 1998). \n",
    "\n",
    "Our Random Forest model achieved an impressive overall accuracy of 94.68% and a strong Kappa statistic of 0.8822, indicating robust predictive performance and a strong agreement between predicted and actual classes. However, performance was heavily influenced by class balance, as shown in the confusion matrix. To enhance the model, we recommend addressing class imbalance through the use of class weighting. Overall, the model provides a highly accurate and interpretable approach to car acceptability classification, but further refinements could improve fairness across all categories. In summary, this analysis demonstrates how machine learning can be effectively applied to real-world decision-making in the automotive sector."
   ]
  },
  {
   "cell_type": "markdown",
   "metadata": {},
   "source": [
    "## Introduction"
   ]
  },
  {
   "cell_type": "markdown",
   "metadata": {},
   "source": [
    "Evaluating car acceptability is a critical factor in decision-making within the automotive industry. It affects consumer choices regarding vehicle purchases, manufacturers' priorities, and dealership strategies. Car purchases represent one of the most significant financial decisions for households, with affordability being the primary barrier for many buyers. Price plays a crucial role in accessibility, particularly for budget-conscious consumers, such as first-time buyers or individuals in emerging markets.\n",
    "\n",
    "According to Chiu et al. (2022), price dispersion positively impacts car acceptability. Because car purchases are high-cost, long-term investments, misaligned choices due to information asymmetry—such as undervaluing safety features—can lead to serious financial or safety repercussions (Canada, 2024). For instance, vehicles with poor safety ratings have been linked to higher accident rates. Consequently, Vrkljan et al. (2011) concluded that safety is considered the most important feature when purchasing a vehicle. Automating car evaluations helps buyers efficiently identify optimal vehicles, aligning with the trend toward data-driven consumer tools. Recognizing critical features, such as safety and price, reflects the industry's priorities in vehicle design.\n",
    "\n",
    "This project aims to develop a classification model to predict car acceptability based on various features such as price, maintenance cost, safety, and seating capacity. This analysis uses the Car Evaluation dataset, which contains 1,728 instances and six features: buying price, maintenance cost, number of doors, seating capacity, luggage size, and safety rating. With an increasing number of car models available in the market, understanding how different attributes affect car classification can help streamline the evaluation process. The goal is to predict car acceptability categories: unacceptable (unacc), acceptable (acc), good (good), and very good (vgood). Being able to predict car acceptability can enhance automated recommendations, improve quality control, and support consumer purchasing decisions."
   ]
  },
  {
   "cell_type": "markdown",
   "metadata": {},
   "source": [
    "## Method & Results"
   ]
  },
  {
   "cell_type": "code",
   "execution_count": 1,
   "metadata": {
    "vscode": {
     "languageId": "r"
    }
   },
   "outputs": [
    {
     "name": "stderr",
     "output_type": "stream",
     "text": [
      "── \u001b[1mAttaching core tidyverse packages\u001b[22m ──────────────────────── tidyverse 2.0.0 ──\n",
      "\u001b[32m✔\u001b[39m \u001b[34mdplyr    \u001b[39m 1.1.4     \u001b[32m✔\u001b[39m \u001b[34mreadr    \u001b[39m 2.1.5\n",
      "\u001b[32m✔\u001b[39m \u001b[34mforcats  \u001b[39m 1.0.0     \u001b[32m✔\u001b[39m \u001b[34mstringr  \u001b[39m 1.5.1\n",
      "\u001b[32m✔\u001b[39m \u001b[34mggplot2  \u001b[39m 3.5.1     \u001b[32m✔\u001b[39m \u001b[34mtibble   \u001b[39m 3.2.1\n",
      "\u001b[32m✔\u001b[39m \u001b[34mlubridate\u001b[39m 1.9.3     \u001b[32m✔\u001b[39m \u001b[34mtidyr    \u001b[39m 1.3.1\n",
      "\u001b[32m✔\u001b[39m \u001b[34mpurrr    \u001b[39m 1.0.4     \n",
      "── \u001b[1mConflicts\u001b[22m ────────────────────────────────────────── tidyverse_conflicts() ──\n",
      "\u001b[31m✖\u001b[39m \u001b[34mdplyr\u001b[39m::\u001b[32mfilter()\u001b[39m masks \u001b[34mstats\u001b[39m::filter()\n",
      "\u001b[31m✖\u001b[39m \u001b[34mdplyr\u001b[39m::\u001b[32mlag()\u001b[39m    masks \u001b[34mstats\u001b[39m::lag()\n",
      "\u001b[36mℹ\u001b[39m Use the conflicted package (\u001b[3m\u001b[34m<http://conflicted.r-lib.org/>\u001b[39m\u001b[23m) to force all conflicts to become errors\n",
      "randomForest 4.7-1.1\n",
      "\n",
      "Type rfNews() to see new features/changes/bug fixes.\n",
      "\n",
      "\n",
      "载入程序包：'randomForest'\n",
      "\n",
      "\n",
      "The following object is masked from 'package:dplyr':\n",
      "\n",
      "    combine\n",
      "\n",
      "\n",
      "The following object is masked from 'package:ggplot2':\n",
      "\n",
      "    margin\n",
      "\n",
      "\n",
      "载入需要的程序包：lattice\n",
      "\n",
      "\n",
      "载入程序包：'caret'\n",
      "\n",
      "\n",
      "The following object is masked from 'package:purrr':\n",
      "\n",
      "    lift\n",
      "\n",
      "\n"
     ]
    }
   ],
   "source": [
    "library(tidyverse)\n",
    "library(randomForest)  \n",
    "library(caret)  "
   ]
  },
  {
   "cell_type": "code",
   "execution_count": 3,
   "metadata": {
    "vscode": {
     "languageId": "r"
    }
   },
   "outputs": [
    {
     "data": {
      "text/html": [
       "1728"
      ],
      "text/latex": [
       "1728"
      ],
      "text/markdown": [
       "1728"
      ],
      "text/plain": [
       "[1] 1728"
      ]
     },
     "metadata": {},
     "output_type": "display_data"
    }
   ],
   "source": [
    "data <- read.table(\"data/car.data\", header = FALSE, sep = \",\")\n",
    "data|>nrow()\n",
    "data <- data |> rename(buying = V1,\n",
    "               maint = V2,\n",
    "               doors = V3,\n",
    "               persons = V4, \n",
    "               lug_boot = V5,\n",
    "               safety = V6,\n",
    "               class = V7)\n",
    "data$buying <- as.factor(data$buying) \n",
    "data$maint <- as.factor(data$maint) \n",
    "data$doors <- as.factor(data$doors) \n",
    "data$persons <- as.factor(data$persons) \n",
    "data$lug_boot <- as.factor(data$lug_boot) \n",
    "data$safety <- as.factor(data$safety) \n",
    "data$class <- as.factor(data$class) "
   ]
  },
  {
   "cell_type": "code",
   "execution_count": 4,
   "metadata": {
    "vscode": {
     "languageId": "r"
    }
   },
   "outputs": [],
   "source": [
    "n <- nrow(data)\n",
    "trainidx <- sample.int(n, floor(n * .75))\n",
    "testidx <- setdiff(1:n, trainidx)\n",
    "train <- data[trainidx, ]\n",
    "test <- data[testidx, ]\n",
    "rf <- randomForest(class ~ ., data = train)\n",
    "bag <- randomForest(class ~ ., data = train, mtry = ncol(data) - 1)\n",
    "preds <-  tibble(truth = test$class, rf = predict(rf, test), bag = predict(bag, test))"
   ]
  },
  {
   "cell_type": "code",
   "execution_count": 5,
   "metadata": {
    "vscode": {
     "languageId": "r"
    }
   },
   "outputs": [
    {
     "data": {
      "text/plain": [
       "Confusion Matrix and Statistics\n",
       "\n",
       "          Reference\n",
       "Prediction acc good unacc vgood\n",
       "     acc    84   10     4     6\n",
       "     good    0   15     0     0\n",
       "     unacc   0    0   303     0\n",
       "     vgood   0    3     0     7\n",
       "\n",
       "Overall Statistics\n",
       "                                         \n",
       "               Accuracy : 0.9468         \n",
       "                 95% CI : (0.9212, 0.966)\n",
       "    No Information Rate : 0.7106         \n",
       "    P-Value [Acc > NIR] : < 2.2e-16      \n",
       "                                         \n",
       "                  Kappa : 0.8822         \n",
       "                                         \n",
       " Mcnemar's Test P-Value : NA             \n",
       "\n",
       "Statistics by Class:\n",
       "\n",
       "                     Class: acc Class: good Class: unacc Class: vgood\n",
       "Sensitivity              1.0000     0.53571       0.9870      0.53846\n",
       "Specificity              0.9425     1.00000       1.0000      0.99284\n",
       "Pos Pred Value           0.8077     1.00000       1.0000      0.70000\n",
       "Neg Pred Value           1.0000     0.96882       0.9690      0.98578\n",
       "Prevalence               0.1944     0.06481       0.7106      0.03009\n",
       "Detection Rate           0.1944     0.03472       0.7014      0.01620\n",
       "Detection Prevalence     0.2407     0.03472       0.7014      0.02315\n",
       "Balanced Accuracy        0.9713     0.76786       0.9935      0.76565"
      ]
     },
     "metadata": {},
     "output_type": "display_data"
    }
   ],
   "source": [
    "predictions <- predict(rf, test)\n",
    "\n",
    "conf_matrix <- confusionMatrix(predictions, test$class)\n",
    "conf_matrix"
   ]
  },
  {
   "cell_type": "markdown",
   "metadata": {
    "vscode": {
     "languageId": "r"
    }
   },
   "source": [
    "## Disussion"
   ]
  },
  {
   "cell_type": "markdown",
   "metadata": {},
   "source": [
    "## References"
   ]
  },
  {
   "cell_type": "markdown",
   "metadata": {},
   "source": [
    "Canada, F. C. A. of. (2024, January 5). Government of Canada. Canada.ca. https://www.canada.ca/en/financial-consumer-agency/services/loans/financing-car/risks.html\n",
    "\n",
    "Chiu, L., Du, J., & Wang, N. (2022). The Effects of Price Dispersion on Sales in the Automobile Industry: A Dynamic Panel Analysis. SAGE Open. https://doi.org/10.1177/21582440221120647\n",
    "\n",
    "Vrkljan, B. H., & Anaby, D. (2011). What vehicle features are considered important when buying an automobile? An examination of driver preferences by age and gender. Journal of Safety Research, 42(1), 61-65. https://doi.org/10.1016/j.jsr.2010.11.006\n",
    "\n",
    "Bohanec, M. (1988). Car Evaluation [Dataset]. UCI Machine Learning Repository. https://doi.org/10.24432/C5JP48.\n"
   ]
  }
 ],
 "metadata": {
  "kernelspec": {
   "display_name": "R",
   "language": "R",
   "name": "ir"
  },
  "language_info": {
   "codemirror_mode": "r",
   "file_extension": ".r",
   "mimetype": "text/x-r-source",
   "name": "R",
   "pygments_lexer": "r",
   "version": "4.4.1"
  }
 },
 "nbformat": 4,
 "nbformat_minor": 4
}
